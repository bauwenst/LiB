{
 "cells": [
  {
   "cell_type": "markdown",
   "metadata": {},
   "source": [
    "### Load the corpus"
   ]
  },
  {
   "metadata": {},
   "cell_type": "code",
   "outputs": [],
   "execution_count": null,
   "source": [
    "import numpy as np\n",
    "\n",
    "corpus_brtext = []\n",
    "corpus_brtext_test = []\n",
    "sents_set = set()\n",
    "\n",
    "# or br-phono.txt\n",
    "with open('br-text.txt') as f:\n",
    "    sents_set = set(l.replace('\\n','') for l in f.readlines())      \n",
    "sents = [l.split(' ') for l in sents_set]\n",
    "\n",
    "# Sample 200 sentences to form a doc; repeat 400 times to get 400 docs\n",
    "for _ in range(400):\n",
    "    corpus_brtext.append([])\n",
    "    for i in set(np.random.choice(range(len(sents)),200)):\n",
    "        corpus_brtext[-1].append(sents[i])\n",
    "    corpus_brtext[-1] = [[''.join(j) for j in corpus_brtext[-1]], corpus_brtext[-1]]\n",
    "\n",
    "sents2 = sents[int(len(sents)*0.9):]\n",
    "sents2 = [[''.join(j) for j in sents2], sents2]\n",
    "corpus_brtext_test.append(sents2)"
   ]
  },
  {
   "cell_type": "markdown",
   "metadata": {},
   "source": [
    "### Run LiB"
   ]
  },
  {
   "metadata": {},
   "cell_type": "code",
   "outputs": [],
   "execution_count": null,
   "source": [
    "from libtok.model import LessIsBetter\n",
    "from libtok.structures import TrieList\n",
    "\n",
    "model = LessIsBetter(\n",
    "    # Common parameters\n",
    "    life = 10,\n",
    "    max_len = 12,\n",
    "    memory_in = 0.25,\n",
    "    memory_out = 0.0001,\n",
    "    update_rate = 0.2,\n",
    "    # Parameters for detecting skip-gram (new function; being testing; default it is disable)\n",
    "    use_skip=False,\n",
    "    mini_gap = 7\n",
    ")\n",
    "\n",
    "# Define the train/test set\n",
    "corpus_train = corpus_brtext\n",
    "corpus_test = corpus_brtext_test\n",
    "\n",
    "# New and init a memory\n",
    "model.initialise(corpus_train[0][0]) # init the Lexicon memory with some unigrams in corpus\n",
    "\n",
    "# RUN!!!\n",
    "for epoch_id in range(5001):\n",
    "    model.run(epoch_id, corpus_train, corpus_test)\n",
    "# [epoch_id]  MemLength:[size of Lexicon memory]\n",
    "# [B] (Boundary evaluation scores)\n",
    "# [T] (Token evaluation scores)"
   ]
  },
  {
   "cell_type": "markdown",
   "metadata": {},
   "source": [
    "### See the head entities in Lexicon memory"
   ]
  },
  {
   "metadata": {},
   "cell_type": "code",
   "outputs": [],
   "execution_count": null,
   "source": "model.memory[:50]"
  },
  {
   "cell_type": "markdown",
   "metadata": {},
   "source": [
    "### See the chunk segmentation result and the subchunk segmentation result "
   ]
  },
  {
   "metadata": {},
   "cell_type": "code",
   "outputs": [],
   "execution_count": null,
   "source": [
    "# On each two-line display, the above are the original words\n",
    "# and the below are the model-generated chunks/subchunks.\n",
    "article, article_raw = corpus_train[2]\n",
    "onset, end = 10, 20\n",
    "print('---\\nchunks\\n---')\n",
    "model.show_result(article_raw[onset:end], article[onset:end], decompose=False)\n",
    "print('---\\nsubchunks\\n---')\n",
    "model.show_result(article_raw[onset:end], article[onset:end], decompose=True)"
   ]
  }
 ],
 "metadata": {
  "kernelspec": {
   "display_name": "Python 3",
   "language": "python",
   "name": "python3"
  },
  "language_info": {
   "codemirror_mode": {
    "name": "ipython",
    "version": 3
   },
   "file_extension": ".py",
   "mimetype": "text/x-python",
   "name": "python",
   "nbconvert_exporter": "python",
   "pygments_lexer": "ipython3",
   "version": "3.8.3"
  }
 },
 "nbformat": 4,
 "nbformat_minor": 4
}
